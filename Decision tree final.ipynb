{
 "cells": [
  {
   "cell_type": "markdown",
   "metadata": {},
   "source": [
    "## Entropy Function\n"
   ]
  },
  {
   "cell_type": "code",
   "execution_count": 1,
   "metadata": {},
   "outputs": [],
   "source": [
    "def Entropy(target_col):\n",
    "    elements,counts = np.unique(target_col,return_counts = True)  # i have used unique function to get unique elements and their counts\n",
    "    entropy=0\n",
    "    for i in range(len(elements)):\n",
    "        entropy += (-counts[i]/np.sum(counts))*np.log2(counts[i]/np.sum(counts))\n",
    "    \n",
    "    return entropy\n",
    "    "
   ]
  },
  {
   "cell_type": "markdown",
   "metadata": {},
   "source": [
    "## Gain Function"
   ]
  },
  {
   "cell_type": "code",
   "execution_count": 2,
   "metadata": {},
   "outputs": [],
   "source": [
    "def gain(data,s_feature,target_feature):       \n",
    "        n_entropy = 0\n",
    "        vals,counts= np.unique(data[s_feature],return_counts=True)\n",
    "        for i in range(len(vals)):\n",
    "            k=Entropy(data.where(data[s_feature]==vals[i]).dropna()[target_feature])\n",
    "            n_entropy += (counts[i]/np.sum(counts))*k\n",
    "        return n_entropy"
   ]
  },
  {
   "cell_type": "markdown",
   "metadata": {},
   "source": [
    "## Information Gain Fuction"
   ]
  },
  {
   "cell_type": "code",
   "execution_count": 3,
   "metadata": {},
   "outputs": [],
   "source": [
    "def Infogain(df,s_feature,y):\n",
    "    total_entropy = Entropy(df[y])\n",
    "  \n",
    "    Information_Gain = total_entropy - gain(df,s_feature,y)\n",
    "    \n",
    "    return Information_Gain\n",
    "    "
   ]
  },
  {
   "cell_type": "markdown",
   "metadata": {},
   "source": [
    "## Split Information Function\n"
   ]
  },
  {
   "cell_type": "code",
   "execution_count": 4,
   "metadata": {},
   "outputs": [],
   "source": [
    "def split_info(data,f):\n",
    "    elements,counts = np.unique(data[f],return_counts = True)\n",
    "    entropy=0\n",
    "    for i in range(len(elements)):\n",
    "        entropy += (-counts[i]/np.sum(counts))*np.log2(counts[i]/np.sum(counts))\n",
    "    return entropy\n",
    "     "
   ]
  },
  {
   "cell_type": "markdown",
   "metadata": {},
   "source": [
    "## Gain Ratio Function"
   ]
  },
  {
   "cell_type": "code",
   "execution_count": 5,
   "metadata": {},
   "outputs": [],
   "source": [
    "def Gain_ratio(info_gain,data,best_feature):\n",
    "    ratio =  info_gain/split_info(data,best_feature)\n",
    "    return ratio"
   ]
  },
  {
   "cell_type": "markdown",
   "metadata": {},
   "source": [
    "## Build Tree Function\n",
    "\n",
    "### Where Recursion Occurs   "
   ]
  },
  {
   "cell_type": "code",
   "execution_count": 14,
   "metadata": {},
   "outputs": [],
   "source": [
    "'''   DT(data,originaldata,features,target_feature=\"z\",parent = None):\n",
    "      \n",
    "      where (data)          = contains all the data includes target and we will work on this \n",
    "            (orignal data)  = it stays the same as orignal data\n",
    "            (featrues)      = list of all features\n",
    "            (target_feature)= it contains the name of target\n",
    "            (parent)        = it will act as a parent node\n",
    "'''\n",
    "\n",
    "def DT(data,originaldata,features,target_feature=\"target\",parent = None,level=0): \n",
    "    \n",
    " \n",
    "    if (len(np.unique(data[target_feature])) <= 1):   # checking if all the values are same if yes then we reached at a leaf\n",
    "        \n",
    "        elements,counts = np.unique(data[target_feature],return_counts = True)\n",
    "        print('Level ',level)\n",
    "        if elements ==0 :\n",
    "            print('Count of 0 =',np.sum(counts))\n",
    "        elif elements ==1 :\n",
    "            print('Count of 1 =',np.sum(counts))\n",
    "        elif elements ==2 :\n",
    "            print('Count of 2 =',np.sum(counts))\n",
    "        print('Current Entropy is =',Entropy(data[target_feature]))\n",
    "        print('Reached Leaf Node ')\n",
    "        print()\n",
    "        return np.unique(data[target_feature])[0]\n",
    "    \n",
    "    elif len(data) == 0:                              # checking the data is empty or not\n",
    "       \n",
    "        return np.unique(orignaldata[target_feature])\n",
    "    \n",
    "    elif len(features) == 0 :\n",
    "        \n",
    "        return parent\n",
    "    \n",
    "    else :\n",
    "\n",
    "        P_node = np.unique(data[target_feature])      # put all the uniqe values of target in parent node\n",
    "        \n",
    "        values = []\n",
    "        for ftr in features :                         # loop over all the features\n",
    "            v = Infogain(data,ftr,target_feature)     # getting list of information gain of all features\n",
    "            values.append(v)\n",
    "        \n",
    "        best_feature_index = np.argmax(values)        # taking out the index of the feture which contains max information gain\n",
    "        best_feature = features[best_feature_index]\n",
    "        \n",
    "        tree = {best_feature:{}}                      # i have used dictionaris to show my actual tree\n",
    "        \n",
    "        tot_entropy = Entropy(data[target_feature])   # calculated entropy at current node\n",
    "       \n",
    "        \n",
    "        rat=Gain_ratio(max(values),data,best_feature) # calculated gain ratio  of the features on which we split up on\n",
    "        \n",
    "        elements,counts = np.unique(data[target_feature],return_counts = True)\n",
    "        print('Level ',level)                                      #these all are printing task\n",
    "        for i in range(len(elements)):\n",
    "            if elements[i]==0 :\n",
    "                print('count of 0  =',counts[i])\n",
    "            elif elements[i]==1 :\n",
    "                print('count of 1  =',counts[i])\n",
    "            elif elements[i]==2 :\n",
    "                print('count of 2  =',counts[i])\n",
    "      \n",
    "        print('Current entropy is   = ',tot_entropy)  \n",
    "        print('Splitting on feature ',best_feature,' with gain ratio ', rat)\n",
    "        \n",
    "        print()\n",
    "        \n",
    "        \n",
    "        new_features = features                     # ---> from here to  \n",
    "        features=[]\n",
    "        for i in new_features :                     \n",
    "                                                   #  (process to remove the feature from feature list after split\n",
    "            if i != best_feature :                  \n",
    "                features.append(i)\n",
    "        level += 1       \n",
    "        new_features=None                          # ---> to here\n",
    "        \n",
    "        for vals in np.unique(data[best_feature]):   #   recursion of all diffrent values in that splitting feature\n",
    "            \n",
    "            value = vals\n",
    "            sub_data = (data[data[best_feature] == value]).dropna()\n",
    "            \n",
    "            subtree = DT(sub_data,data,features,target_feature,P_node,level)\n",
    "            tree[best_feature][value] = subtree\n",
    "            \n",
    "        return tree  \n",
    "     "
   ]
  },
  {
   "cell_type": "markdown",
   "metadata": {},
   "source": [
    "##  Loading Iris Dataset\n",
    "\n",
    "##  Labeling Iris Dataset"
   ]
  },
  {
   "cell_type": "code",
   "execution_count": 7,
   "metadata": {},
   "outputs": [
    {
     "name": "stdout",
     "output_type": "stream",
     "text": [
      "Index(['sl_labeled', 'sw_labeled', 'pl_labeled', 'pw_labeled'], dtype='object')\n"
     ]
    }
   ],
   "source": [
    "# its all given to us , i have just added one more column of target\n",
    "\n",
    "from sklearn import datasets\n",
    "import pandas as pd\n",
    "\n",
    "iris = datasets.load_iris()\n",
    "\n",
    "df = pd.DataFrame(iris.data)\n",
    "df.columns = [\"sl\", \"sw\", 'pl', 'pw']\n",
    "y = pd.DataFrame(iris.target)\n",
    "y.columns = ['target']\n",
    "\n",
    "\n",
    "def label(val, *boundaries):\n",
    "    if (val < boundaries[0]):\n",
    "        return 'a'\n",
    "    elif (val < boundaries[1]):\n",
    "        return 'b'\n",
    "    elif (val < boundaries[2]):\n",
    "        return 'c'\n",
    "    else:\n",
    "        return 'd'\n",
    "\n",
    "#Function to convert a continuous data into labelled data\n",
    "#There are 4 lables  - a, b, c, d\n",
    "def toLabel(df, old_feature_name):\n",
    "    second = df[old_feature_name].mean()\n",
    "    minimum = df[old_feature_name].min()\n",
    "    first = (minimum + second)/2\n",
    "    maximum = df[old_feature_name].max()\n",
    "    third = (maximum + second)/2\n",
    "    return df[old_feature_name].apply(label, args= (first, second, third))\n",
    "\n",
    "#Convert all columns to labelled data\n",
    "df['sl_labeled'] = toLabel(df, 'sl')\n",
    "df['sw_labeled'] = toLabel(df, 'sw')\n",
    "df['pl_labeled'] = toLabel(df, 'pl')\n",
    "df['pw_labeled'] = toLabel(df, 'pw')\n",
    "\n",
    "df.head()\n",
    "df.drop(['sl', 'sw', 'pl', 'pw'], axis = 1, inplace = True)    \n",
    "df['target']=y                                                    # here i added the target column  in the data\n",
    "print(df.columns[:-1])                                            # this gives me the list of all features except target one\n"
   ]
  },
  {
   "cell_type": "code",
   "execution_count": 8,
   "metadata": {},
   "outputs": [],
   "source": [
    "import numpy as np"
   ]
  },
  {
   "cell_type": "markdown",
   "metadata": {},
   "source": [
    "# Printing steps of decition tree as given in Problem"
   ]
  },
  {
   "cell_type": "code",
   "execution_count": 15,
   "metadata": {},
   "outputs": [
    {
     "name": "stdout",
     "output_type": "stream",
     "text": [
      "Level  0\n",
      "count of 0  = 50\n",
      "count of 1  = 50\n",
      "count of 2  = 50\n",
      "Current entropy is   =  1.584962500721156\n",
      "Splitting on feature  pw_labeled  with gain ratio  0.6996382036222091\n",
      "\n",
      "Level  1\n",
      "Count of 0 = 50\n",
      "Current Entropy is = 0.0\n",
      "Reached Leaf Node \n",
      "\n",
      "Level  1\n",
      "Count of 1 = 10\n",
      "Current Entropy is = 0.0\n",
      "Reached Leaf Node \n",
      "\n",
      "Level  1\n",
      "count of 1  = 40\n",
      "count of 2  = 16\n",
      "Current entropy is   =  0.863120568566631\n",
      "Splitting on feature  pl_labeled  with gain ratio  0.4334099495621067\n",
      "\n",
      "Level  2\n",
      "Count of 1 = 1\n",
      "Current Entropy is = 0.0\n",
      "Reached Leaf Node \n",
      "\n",
      "Level  2\n",
      "count of 1  = 39\n",
      "count of 2  = 8\n",
      "Current entropy is   =  0.6581912658132185\n",
      "Splitting on feature  sl_labeled  with gain ratio  0.12674503775809332\n",
      "\n",
      "Level  3\n",
      "Count of 2 = 1\n",
      "Current Entropy is = 0.0\n",
      "Reached Leaf Node \n",
      "\n",
      "Level  3\n",
      "Count of 1 = 14\n",
      "Current Entropy is = 0.0\n",
      "Reached Leaf Node \n",
      "\n",
      "Level  3\n",
      "count of 1  = 23\n",
      "count of 2  = 7\n",
      "Current entropy is   =  0.783776947484701\n",
      "Splitting on feature  sw_labeled  with gain ratio  0.07092036405148876\n",
      "\n",
      "Level  4\n",
      "Count of 1 = 6\n",
      "Current Entropy is = 0.0\n",
      "Reached Leaf Node \n",
      "\n",
      "Level  3\n",
      "Count of 1 = 2\n",
      "Current Entropy is = 0.0\n",
      "Reached Leaf Node \n",
      "\n",
      "Level  2\n",
      "Count of 2 = 8\n",
      "Current Entropy is = 0.0\n",
      "Reached Leaf Node \n",
      "\n",
      "Level  1\n",
      "Count of 2 = 34\n",
      "Current Entropy is = 0.0\n",
      "Reached Leaf Node \n",
      "\n",
      "\n"
     ]
    }
   ],
   "source": [
    "tree=DT(df, df, df.columns[:-1])     # printing steps\n",
    "print()"
   ]
  },
  {
   "cell_type": "markdown",
   "metadata": {},
   "source": [
    "# Printing Actual Tree with two types"
   ]
  },
  {
   "cell_type": "code",
   "execution_count": 16,
   "metadata": {},
   "outputs": [
    {
     "name": "stdout",
     "output_type": "stream",
     "text": [
      "{'pw_labeled': {'a': 0,\n",
      "                'b': 1,\n",
      "                'c': {'pl_labeled': {'b': 1,\n",
      "                                     'c': {'sl_labeled': {'a': 2,\n",
      "                                                          'b': 1,\n",
      "                                                          'c': {'sw_labeled': {'a': array([1, 2]),\n",
      "                                                                               'b': array([1, 2]),\n",
      "                                                                               'c': 1}},\n",
      "                                                          'd': 1}},\n",
      "                                     'd': 2}},\n",
      "                'd': 2}}\n"
     ]
    }
   ],
   "source": [
    "import pprint  \n",
    "pprint.pprint(tree)         # printing actual tree (type 1)"
   ]
  },
  {
   "cell_type": "code",
   "execution_count": 17,
   "metadata": {},
   "outputs": [
    {
     "name": "stdout",
     "output_type": "stream",
     "text": [
      "pw_labeled\n",
      "\ta\n",
      "\t\t0\n",
      "\tb\n",
      "\t\t1\n",
      "\tc\n",
      "\t\tpl_labeled\n",
      "\t\t\tb\n",
      "\t\t\t\t1\n",
      "\t\t\tc\n",
      "\t\t\t\tsl_labeled\n",
      "\t\t\t\t\ta\n",
      "\t\t\t\t\t\t2\n",
      "\t\t\t\t\tb\n",
      "\t\t\t\t\t\t1\n",
      "\t\t\t\t\tc\n",
      "\t\t\t\t\t\tsw_labeled\n",
      "\t\t\t\t\t\t\ta\n",
      "\t\t\t\t\t\t\t\t[1 2]\n",
      "\t\t\t\t\t\t\tb\n",
      "\t\t\t\t\t\t\t\t[1 2]\n",
      "\t\t\t\t\t\t\tc\n",
      "\t\t\t\t\t\t\t\t1\n",
      "\t\t\t\t\td\n",
      "\t\t\t\t\t\t1\n",
      "\t\t\td\n",
      "\t\t\t\t2\n",
      "\td\n",
      "\t\t2\n"
     ]
    }
   ],
   "source": [
    "def formatData(t,s):\n",
    "    if not isinstance(t,dict) and not isinstance(t,list):\n",
    "        print (\"\\t\"*s+str(t))\n",
    "    else:\n",
    "        for key in t:\n",
    "            print (\"\\t\"*s+str(key))\n",
    "            if not isinstance(t,list):\n",
    "                formatData(t[key],s+1)\n",
    "\n",
    "formatData(tree,0)                          # printing actual tree (type 2)"
   ]
  },
  {
   "cell_type": "code",
   "execution_count": null,
   "metadata": {},
   "outputs": [],
   "source": []
  }
 ],
 "metadata": {
  "kernelspec": {
   "display_name": "Python 3",
   "language": "python",
   "name": "python3"
  },
  "language_info": {
   "codemirror_mode": {
    "name": "ipython",
    "version": 3
   },
   "file_extension": ".py",
   "mimetype": "text/x-python",
   "name": "python",
   "nbconvert_exporter": "python",
   "pygments_lexer": "ipython3",
   "version": "3.5.6"
  }
 },
 "nbformat": 4,
 "nbformat_minor": 2
}
